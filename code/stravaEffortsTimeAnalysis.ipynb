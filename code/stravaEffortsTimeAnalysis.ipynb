{
 "cells": [
  {
   "cell_type": "markdown",
   "metadata": {},
   "source": [
    "# Analysis of Strava activities - Performances changing over time"
   ]
  },
  {
   "cell_type": "markdown",
   "metadata": {},
   "source": [
    "In this notebook there is a small analysis of  difference of performances over time in terms of pace, length and VO2Max."
   ]
  },
  {
   "cell_type": "code",
   "execution_count": 1,
   "metadata": {},
   "outputs": [],
   "source": [
    "# to avoid geopandas warnings, don't run if you don't mind warnings\n",
    "import warnings\n",
    "warnings.filterwarnings('ignore')"
   ]
  },
  {
   "cell_type": "code",
   "execution_count": 13,
   "metadata": {},
   "outputs": [],
   "source": [
    "import pandas as pd\n",
    "import gpxpy\n",
    "import os\n",
    "from tqdm import tqdm\n",
    "import utils\n",
    "import json"
   ]
  },
  {
   "cell_type": "markdown",
   "metadata": {},
   "source": [
    "### Data loading"
   ]
  },
  {
   "cell_type": "markdown",
   "metadata": {},
   "source": [
    "This part is common for all notebooks, for simplicity. It takes all the Strava activities collected and stores them in lists, dataframes, geodataframes and trajectories for every type of activity (runs, hikes, rides and all)."
   ]
  },
  {
   "cell_type": "code",
   "execution_count": 3,
   "metadata": {},
   "outputs": [],
   "source": [
    "activities = []\n",
    "runs = []\n",
    "hikes = []\n",
    "rides = []"
   ]
  },
  {
   "cell_type": "code",
   "execution_count": 4,
   "metadata": {},
   "outputs": [
    {
     "name": "stderr",
     "output_type": "stream",
     "text": [
      "100%|██████████| 159/159 [00:13<00:00, 12.09it/s]\n"
     ]
    }
   ],
   "source": [
    "for file in tqdm(os.listdir(\"data/strava_activities/\")):\n",
    "    gpx_file = open(\"data/strava_activities/{}\".format(file), 'r')\n",
    "    gpx = gpxpy.parse(gpx_file)\n",
    "    if((gpx.tracks[0].type == 'Run') | (gpx.tracks[0].type == 'running') ):\n",
    "        runs.append(gpx)\n",
    "        activities.append(gpx)\n",
    "    elif(gpx.tracks[0].type == 'Hike'):\n",
    "        hikes.append(gpx)\n",
    "        activities.append(gpx)\n",
    "    elif(gpx.tracks[0].type == 'Ride'):\n",
    "        rides.append(gpx)\n",
    "        activities.append(gpx)"
   ]
  },
  {
   "cell_type": "code",
   "execution_count": 5,
   "metadata": {},
   "outputs": [
    {
     "name": "stderr",
     "output_type": "stream",
     "text": [
      "100%|██████████| 152/152 [00:02<00:00, 54.64it/s]\n",
      "100%|██████████| 135/135 [00:01<00:00, 70.25it/s]\n",
      "100%|██████████| 3/3 [00:00<00:00, 14.91it/s]\n",
      "100%|██████████| 14/14 [00:00<00:00, 21.41it/s]\n"
     ]
    }
   ],
   "source": [
    "# list of dataframes of all the activities\n",
    "activities_dfList = utils.toList(activities)\n",
    "runs_dfList = utils.toList(runs)\n",
    "rides_dfList = utils.toList(rides)\n",
    "hikes_dfList = utils.toList(hikes)"
   ]
  },
  {
   "cell_type": "code",
   "execution_count": 6,
   "metadata": {},
   "outputs": [],
   "source": [
    "# Set time as index for movingpandas\n",
    "for i in range(len(activities_dfList)):\n",
    "    activities_dfList[i].set_index('time', drop=True, inplace=True)\n",
    "for i in range(len(runs_dfList)):\n",
    "    runs_dfList[i].set_index('time', drop=True, inplace=True)\n",
    "for i in range(len(rides_dfList)):\n",
    "    rides_dfList[i].set_index('time', drop=True, inplace=True)\n",
    "for i in range(len(hikes_dfList)):\n",
    "    hikes_dfList[i].set_index('time', drop=True, inplace=True)"
   ]
  },
  {
   "cell_type": "code",
   "execution_count": 7,
   "metadata": {},
   "outputs": [
    {
     "name": "stderr",
     "output_type": "stream",
     "text": [
      "100%|██████████| 152/152 [00:03<00:00, 40.92it/s]\n",
      "100%|██████████| 135/135 [00:02<00:00, 50.98it/s]\n",
      "100%|██████████| 3/3 [00:00<00:00, 39.59it/s]\n",
      "100%|██████████| 14/14 [00:00<00:00, 40.64it/s]\n"
     ]
    }
   ],
   "source": [
    "# List of geodataframes of activities\n",
    "geo_dfList = utils.toGdfList(activities_dfList)\n",
    "runs_geo_dfList = utils.toGdfList(runs_dfList)\n",
    "rides_geo_dfList = utils.toGdfList(rides_dfList)\n",
    "hikes_geo_dfList = utils.toGdfList(hikes_dfList)"
   ]
  },
  {
   "cell_type": "code",
   "execution_count": 8,
   "metadata": {},
   "outputs": [],
   "source": [
    "# List of all trajectories of the dataset\n",
    "trajectories = utils.getTrajList(geo_dfList)\n",
    "runsTrajectories = utils.getTrajList(runs_geo_dfList)\n",
    "ridesTrajectories = utils.getTrajList(rides_geo_dfList)\n",
    "hikesTrajectories = utils.getTrajList(hikes_geo_dfList)"
   ]
  },
  {
   "cell_type": "code",
   "execution_count": 9,
   "metadata": {},
   "outputs": [
    {
     "name": "stderr",
     "output_type": "stream",
     "text": [
      "100%|██████████| 135/135 [00:32<00:00,  4.12it/s]\n",
      "100%|██████████| 135/135 [00:00<00:00, 585.37it/s]\n"
     ]
    }
   ],
   "source": [
    "for i in tqdm(range(len(runsTrajectories))):\n",
    "    runsTrajectories[i].add_speed(overwrite=True)\n",
    "for i in tqdm(range(len(runsTrajectories))):\n",
    "    runsTrajectories[i].df['kmh'] = runsTrajectories[i].df['speed'].apply(utils.ms_to_km)"
   ]
  },
  {
   "cell_type": "markdown",
   "metadata": {},
   "source": [
    "### Getting average pace and runs' lengths"
   ]
  },
  {
   "cell_type": "code",
   "execution_count": 10,
   "metadata": {},
   "outputs": [
    {
     "name": "stderr",
     "output_type": "stream",
     "text": [
      "100%|██████████| 135/135 [00:31<00:00,  4.25it/s]\n"
     ]
    }
   ],
   "source": [
    "runAvg = pd.DataFrame(columns={'date', 'avgPace', 'length'})\n",
    "for i in tqdm(range(len(runsTrajectories))):\n",
    "    runAvg.at[i, 'date'] = runsTrajectories[i].get_start_time()\n",
    "    runAvg.at[i, 'avgPace'] = runsTrajectories[i].df.kmh.mean()\n",
    "    runAvg.at[i, 'length'] = runsTrajectories[i].get_length()/1000"
   ]
  },
  {
   "cell_type": "code",
   "execution_count": 11,
   "metadata": {},
   "outputs": [
    {
     "name": "stderr",
     "output_type": "stream",
     "text": [
      "100%|██████████| 135/135 [00:00<00:00, 5499.42it/s]\n"
     ]
    },
    {
     "data": {
      "text/html": [
       "<div>\n",
       "<style scoped>\n",
       "    .dataframe tbody tr th:only-of-type {\n",
       "        vertical-align: middle;\n",
       "    }\n",
       "\n",
       "    .dataframe tbody tr th {\n",
       "        vertical-align: top;\n",
       "    }\n",
       "\n",
       "    .dataframe thead th {\n",
       "        text-align: right;\n",
       "    }\n",
       "</style>\n",
       "<table border=\"1\" class=\"dataframe\">\n",
       "  <thead>\n",
       "    <tr style=\"text-align: right;\">\n",
       "      <th></th>\n",
       "      <th>length</th>\n",
       "      <th>date</th>\n",
       "      <th>avgPace</th>\n",
       "    </tr>\n",
       "  </thead>\n",
       "  <tbody>\n",
       "    <tr>\n",
       "      <th>0</th>\n",
       "      <td>5.80499</td>\n",
       "      <td>2019-04-09</td>\n",
       "      <td>10.9627</td>\n",
       "    </tr>\n",
       "    <tr>\n",
       "      <th>1</th>\n",
       "      <td>3.00899</td>\n",
       "      <td>2019-04-11</td>\n",
       "      <td>12.725</td>\n",
       "    </tr>\n",
       "    <tr>\n",
       "      <th>2</th>\n",
       "      <td>3.9967</td>\n",
       "      <td>2019-04-16</td>\n",
       "      <td>12.8169</td>\n",
       "    </tr>\n",
       "    <tr>\n",
       "      <th>3</th>\n",
       "      <td>3.94465</td>\n",
       "      <td>2019-04-17</td>\n",
       "      <td>11.2084</td>\n",
       "    </tr>\n",
       "    <tr>\n",
       "      <th>4</th>\n",
       "      <td>3.01506</td>\n",
       "      <td>2019-05-01</td>\n",
       "      <td>12.7177</td>\n",
       "    </tr>\n",
       "    <tr>\n",
       "      <th>...</th>\n",
       "      <td>...</td>\n",
       "      <td>...</td>\n",
       "      <td>...</td>\n",
       "    </tr>\n",
       "    <tr>\n",
       "      <th>130</th>\n",
       "      <td>6.45656</td>\n",
       "      <td>2021-08-30</td>\n",
       "      <td>10.4523</td>\n",
       "    </tr>\n",
       "    <tr>\n",
       "      <th>131</th>\n",
       "      <td>8.03258</td>\n",
       "      <td>2021-09-23</td>\n",
       "      <td>12.7818</td>\n",
       "    </tr>\n",
       "    <tr>\n",
       "      <th>132</th>\n",
       "      <td>10.0129</td>\n",
       "      <td>2021-09-27</td>\n",
       "      <td>12.1618</td>\n",
       "    </tr>\n",
       "    <tr>\n",
       "      <th>133</th>\n",
       "      <td>6.60791</td>\n",
       "      <td>2021-09-29</td>\n",
       "      <td>11.4554</td>\n",
       "    </tr>\n",
       "    <tr>\n",
       "      <th>134</th>\n",
       "      <td>21.2451</td>\n",
       "      <td>2021-10-03</td>\n",
       "      <td>12.1443</td>\n",
       "    </tr>\n",
       "  </tbody>\n",
       "</table>\n",
       "<p>135 rows × 3 columns</p>\n",
       "</div>"
      ],
      "text/plain": [
       "      length        date  avgPace\n",
       "0    5.80499  2019-04-09  10.9627\n",
       "1    3.00899  2019-04-11   12.725\n",
       "2     3.9967  2019-04-16  12.8169\n",
       "3    3.94465  2019-04-17  11.2084\n",
       "4    3.01506  2019-05-01  12.7177\n",
       "..       ...         ...      ...\n",
       "130  6.45656  2021-08-30  10.4523\n",
       "131  8.03258  2021-09-23  12.7818\n",
       "132  10.0129  2021-09-27  12.1618\n",
       "133  6.60791  2021-09-29  11.4554\n",
       "134  21.2451  2021-10-03  12.1443\n",
       "\n",
       "[135 rows x 3 columns]"
      ]
     },
     "execution_count": 11,
     "metadata": {},
     "output_type": "execute_result"
    }
   ],
   "source": [
    "runAvg.sort_values(by='date', inplace=True)\n",
    "runAvg.reset_index(drop=True, inplace=True)\n",
    "for i in tqdm(range(len(runAvg))):\n",
    "    runAvg.date[i] = runAvg.date[i].strftime(\"%Y-%m-%d\")\n",
    "runAvg"
   ]
  },
  {
   "cell_type": "markdown",
   "metadata": {},
   "source": [
    "### Exploiting VO2Max data"
   ]
  },
  {
   "cell_type": "markdown",
   "metadata": {},
   "source": [
    "VO2Max is a measure of maximum oxygen consumption per minute for any muscle contraction. This is a biological parameter which can be partially improved by trainings. Was I able to modify it through my activities? When did it decrease?"
   ]
  },
  {
   "cell_type": "code",
   "execution_count": 14,
   "metadata": {},
   "outputs": [
    {
     "name": "stderr",
     "output_type": "stream",
     "text": [
      "100%|██████████| 10/10 [00:00<00:00, 90.61it/s]\n"
     ]
    },
    {
     "data": {
      "text/html": [
       "<div>\n",
       "<style scoped>\n",
       "    .dataframe tbody tr th:only-of-type {\n",
       "        vertical-align: middle;\n",
       "    }\n",
       "\n",
       "    .dataframe tbody tr th {\n",
       "        vertical-align: top;\n",
       "    }\n",
       "\n",
       "    .dataframe thead th {\n",
       "        text-align: right;\n",
       "    }\n",
       "</style>\n",
       "<table border=\"1\" class=\"dataframe\">\n",
       "  <thead>\n",
       "    <tr style=\"text-align: right;\">\n",
       "      <th></th>\n",
       "      <th>calendarDate</th>\n",
       "      <th>timestampGmt</th>\n",
       "      <th>sport</th>\n",
       "      <th>activityId</th>\n",
       "      <th>vo2MaxValue</th>\n",
       "    </tr>\n",
       "  </thead>\n",
       "  <tbody>\n",
       "    <tr>\n",
       "      <th>0</th>\n",
       "      <td>2019-03-20</td>\n",
       "      <td>2019-03-20T18:53:32.0</td>\n",
       "      <td>RUNNING</td>\n",
       "      <td>3479925555</td>\n",
       "      <td>53.0</td>\n",
       "    </tr>\n",
       "    <tr>\n",
       "      <th>1</th>\n",
       "      <td>2019-03-26</td>\n",
       "      <td>2019-03-26T18:39:07.0</td>\n",
       "      <td>RUNNING</td>\n",
       "      <td>3498156058</td>\n",
       "      <td>53.0</td>\n",
       "    </tr>\n",
       "    <tr>\n",
       "      <th>2</th>\n",
       "      <td>2019-04-02</td>\n",
       "      <td>2019-04-02T17:44:54.0</td>\n",
       "      <td>RUNNING</td>\n",
       "      <td>3519671950</td>\n",
       "      <td>53.0</td>\n",
       "    </tr>\n",
       "    <tr>\n",
       "      <th>3</th>\n",
       "      <td>2019-04-09</td>\n",
       "      <td>2019-04-09T18:14:30.0</td>\n",
       "      <td>RUNNING</td>\n",
       "      <td>3541479161</td>\n",
       "      <td>54.0</td>\n",
       "    </tr>\n",
       "    <tr>\n",
       "      <th>4</th>\n",
       "      <td>2019-04-11</td>\n",
       "      <td>2019-04-11T06:43:22.0</td>\n",
       "      <td>RUNNING</td>\n",
       "      <td>3545420258</td>\n",
       "      <td>56.0</td>\n",
       "    </tr>\n",
       "    <tr>\n",
       "      <th>...</th>\n",
       "      <td>...</td>\n",
       "      <td>...</td>\n",
       "      <td>...</td>\n",
       "      <td>...</td>\n",
       "      <td>...</td>\n",
       "    </tr>\n",
       "    <tr>\n",
       "      <th>133</th>\n",
       "      <td>2021-05-14</td>\n",
       "      <td>2021-05-14T11:57:57.0</td>\n",
       "      <td>RUNNING</td>\n",
       "      <td>6777359705</td>\n",
       "      <td>52.0</td>\n",
       "    </tr>\n",
       "    <tr>\n",
       "      <th>134</th>\n",
       "      <td>2021-05-15</td>\n",
       "      <td>2021-05-15T09:54:00.0</td>\n",
       "      <td>RUNNING</td>\n",
       "      <td>6782369267</td>\n",
       "      <td>51.0</td>\n",
       "    </tr>\n",
       "    <tr>\n",
       "      <th>135</th>\n",
       "      <td>2021-05-18</td>\n",
       "      <td>2021-05-18T17:57:59.0</td>\n",
       "      <td>RUNNING</td>\n",
       "      <td>6802088682</td>\n",
       "      <td>51.0</td>\n",
       "    </tr>\n",
       "    <tr>\n",
       "      <th>136</th>\n",
       "      <td>2021-05-23</td>\n",
       "      <td>2021-05-23T18:53:58.0</td>\n",
       "      <td>RUNNING</td>\n",
       "      <td>6830626048</td>\n",
       "      <td>51.0</td>\n",
       "    </tr>\n",
       "    <tr>\n",
       "      <th>137</th>\n",
       "      <td>2021-05-25</td>\n",
       "      <td>2021-05-25T18:49:31.0</td>\n",
       "      <td>RUNNING</td>\n",
       "      <td>6841608538</td>\n",
       "      <td>52.0</td>\n",
       "    </tr>\n",
       "  </tbody>\n",
       "</table>\n",
       "<p>138 rows × 5 columns</p>\n",
       "</div>"
      ],
      "text/plain": [
       "    calendarDate           timestampGmt    sport  activityId  vo2MaxValue\n",
       "0     2019-03-20  2019-03-20T18:53:32.0  RUNNING  3479925555         53.0\n",
       "1     2019-03-26  2019-03-26T18:39:07.0  RUNNING  3498156058         53.0\n",
       "2     2019-04-02  2019-04-02T17:44:54.0  RUNNING  3519671950         53.0\n",
       "3     2019-04-09  2019-04-09T18:14:30.0  RUNNING  3541479161         54.0\n",
       "4     2019-04-11  2019-04-11T06:43:22.0  RUNNING  3545420258         56.0\n",
       "..           ...                    ...      ...         ...          ...\n",
       "133   2021-05-14  2021-05-14T11:57:57.0  RUNNING  6777359705         52.0\n",
       "134   2021-05-15  2021-05-15T09:54:00.0  RUNNING  6782369267         51.0\n",
       "135   2021-05-18  2021-05-18T17:57:59.0  RUNNING  6802088682         51.0\n",
       "136   2021-05-23  2021-05-23T18:53:58.0  RUNNING  6830626048         51.0\n",
       "137   2021-05-25  2021-05-25T18:49:31.0  RUNNING  6841608538         52.0\n",
       "\n",
       "[138 rows x 5 columns]"
      ]
     },
     "execution_count": 14,
     "metadata": {},
     "output_type": "execute_result"
    }
   ],
   "source": [
    "data = []\n",
    "vo2 = pd.DataFrame()\n",
    "for file in tqdm(os.listdir(\"data/vo2/\")):\n",
    "    with open(\"data/vo2/{}\".format(file), 'r') as f:\n",
    "        data = json.loads([line.strip() for line in f][0])\n",
    "        vo2 = vo2.append(data)\n",
    "vo2.reset_index(drop=True, inplace=True)\n",
    "vo2.drop(columns={'userProfilePK', 'deviceId','subSport', 'activityUuid'}, inplace=True)\n",
    "vo2"
   ]
  },
  {
   "cell_type": "markdown",
   "metadata": {},
   "source": [
    "## Efforts comparison"
   ]
  },
  {
   "cell_type": "code",
   "execution_count": 15,
   "metadata": {},
   "outputs": [
    {
     "data": {
      "text/html": [
       "<div>\n",
       "<style scoped>\n",
       "    .dataframe tbody tr th:only-of-type {\n",
       "        vertical-align: middle;\n",
       "    }\n",
       "\n",
       "    .dataframe tbody tr th {\n",
       "        vertical-align: top;\n",
       "    }\n",
       "\n",
       "    .dataframe thead th {\n",
       "        text-align: right;\n",
       "    }\n",
       "</style>\n",
       "<table border=\"1\" class=\"dataframe\">\n",
       "  <thead>\n",
       "    <tr style=\"text-align: right;\">\n",
       "      <th></th>\n",
       "      <th>length</th>\n",
       "      <th>date</th>\n",
       "      <th>avgPace</th>\n",
       "      <th>timestampGmt</th>\n",
       "      <th>sport</th>\n",
       "      <th>activityId</th>\n",
       "      <th>vo2MaxValue</th>\n",
       "    </tr>\n",
       "  </thead>\n",
       "  <tbody>\n",
       "    <tr>\n",
       "      <th>0</th>\n",
       "      <td>5.80499</td>\n",
       "      <td>2019-04-09</td>\n",
       "      <td>10.9627</td>\n",
       "      <td>2019-04-09T18:14:30.0</td>\n",
       "      <td>RUNNING</td>\n",
       "      <td>3541479161</td>\n",
       "      <td>54.0</td>\n",
       "    </tr>\n",
       "    <tr>\n",
       "      <th>1</th>\n",
       "      <td>3.00899</td>\n",
       "      <td>2019-04-11</td>\n",
       "      <td>12.725</td>\n",
       "      <td>2019-04-11T06:43:22.0</td>\n",
       "      <td>RUNNING</td>\n",
       "      <td>3545420258</td>\n",
       "      <td>56.0</td>\n",
       "    </tr>\n",
       "    <tr>\n",
       "      <th>2</th>\n",
       "      <td>3.9967</td>\n",
       "      <td>2019-04-16</td>\n",
       "      <td>12.8169</td>\n",
       "      <td>2019-04-16T17:51:35.0</td>\n",
       "      <td>RUNNING</td>\n",
       "      <td>3561796047</td>\n",
       "      <td>56.0</td>\n",
       "    </tr>\n",
       "    <tr>\n",
       "      <th>3</th>\n",
       "      <td>3.94465</td>\n",
       "      <td>2019-04-17</td>\n",
       "      <td>11.2084</td>\n",
       "      <td>2019-04-17T17:34:43.0</td>\n",
       "      <td>RUNNING</td>\n",
       "      <td>3564901233</td>\n",
       "      <td>56.0</td>\n",
       "    </tr>\n",
       "    <tr>\n",
       "      <th>4</th>\n",
       "      <td>3.01506</td>\n",
       "      <td>2019-05-01</td>\n",
       "      <td>12.7177</td>\n",
       "      <td>2019-05-01T18:48:20.0</td>\n",
       "      <td>RUNNING</td>\n",
       "      <td>3609227182</td>\n",
       "      <td>56.0</td>\n",
       "    </tr>\n",
       "    <tr>\n",
       "      <th>...</th>\n",
       "      <td>...</td>\n",
       "      <td>...</td>\n",
       "      <td>...</td>\n",
       "      <td>...</td>\n",
       "      <td>...</td>\n",
       "      <td>...</td>\n",
       "      <td>...</td>\n",
       "    </tr>\n",
       "    <tr>\n",
       "      <th>118</th>\n",
       "      <td>5.01024</td>\n",
       "      <td>2021-08-14</td>\n",
       "      <td>13.2755</td>\n",
       "      <td>2021-08-14T18:45:04.0</td>\n",
       "      <td>RUNNING</td>\n",
       "      <td>7304989718</td>\n",
       "      <td>52.0</td>\n",
       "    </tr>\n",
       "    <tr>\n",
       "      <th>119</th>\n",
       "      <td>8.03258</td>\n",
       "      <td>2021-09-23</td>\n",
       "      <td>12.7818</td>\n",
       "      <td>2021-09-23T18:48:04.0</td>\n",
       "      <td>RUNNING</td>\n",
       "      <td>7541750132</td>\n",
       "      <td>53.0</td>\n",
       "    </tr>\n",
       "    <tr>\n",
       "      <th>120</th>\n",
       "      <td>10.0129</td>\n",
       "      <td>2021-09-27</td>\n",
       "      <td>12.1618</td>\n",
       "      <td>2021-09-27T18:26:23.0</td>\n",
       "      <td>RUNNING</td>\n",
       "      <td>7564463452</td>\n",
       "      <td>51.0</td>\n",
       "    </tr>\n",
       "    <tr>\n",
       "      <th>121</th>\n",
       "      <td>6.60791</td>\n",
       "      <td>2021-09-29</td>\n",
       "      <td>11.4554</td>\n",
       "      <td>2021-09-29T17:38:44.0</td>\n",
       "      <td>RUNNING</td>\n",
       "      <td>7575641530</td>\n",
       "      <td>52.0</td>\n",
       "    </tr>\n",
       "    <tr>\n",
       "      <th>122</th>\n",
       "      <td>21.2451</td>\n",
       "      <td>2021-10-03</td>\n",
       "      <td>12.1443</td>\n",
       "      <td>2021-10-03T09:46:02.0</td>\n",
       "      <td>RUNNING</td>\n",
       "      <td>7594999558</td>\n",
       "      <td>51.0</td>\n",
       "    </tr>\n",
       "  </tbody>\n",
       "</table>\n",
       "<p>123 rows × 7 columns</p>\n",
       "</div>"
      ],
      "text/plain": [
       "      length        date  avgPace           timestampGmt    sport  activityId  \\\n",
       "0    5.80499  2019-04-09  10.9627  2019-04-09T18:14:30.0  RUNNING  3541479161   \n",
       "1    3.00899  2019-04-11   12.725  2019-04-11T06:43:22.0  RUNNING  3545420258   \n",
       "2     3.9967  2019-04-16  12.8169  2019-04-16T17:51:35.0  RUNNING  3561796047   \n",
       "3    3.94465  2019-04-17  11.2084  2019-04-17T17:34:43.0  RUNNING  3564901233   \n",
       "4    3.01506  2019-05-01  12.7177  2019-05-01T18:48:20.0  RUNNING  3609227182   \n",
       "..       ...         ...      ...                    ...      ...         ...   \n",
       "118  5.01024  2021-08-14  13.2755  2021-08-14T18:45:04.0  RUNNING  7304989718   \n",
       "119  8.03258  2021-09-23  12.7818  2021-09-23T18:48:04.0  RUNNING  7541750132   \n",
       "120  10.0129  2021-09-27  12.1618  2021-09-27T18:26:23.0  RUNNING  7564463452   \n",
       "121  6.60791  2021-09-29  11.4554  2021-09-29T17:38:44.0  RUNNING  7575641530   \n",
       "122  21.2451  2021-10-03  12.1443  2021-10-03T09:46:02.0  RUNNING  7594999558   \n",
       "\n",
       "     vo2MaxValue  \n",
       "0           54.0  \n",
       "1           56.0  \n",
       "2           56.0  \n",
       "3           56.0  \n",
       "4           56.0  \n",
       "..           ...  \n",
       "118         52.0  \n",
       "119         53.0  \n",
       "120         51.0  \n",
       "121         52.0  \n",
       "122         51.0  \n",
       "\n",
       "[123 rows x 7 columns]"
      ]
     },
     "execution_count": 15,
     "metadata": {},
     "output_type": "execute_result"
    }
   ],
   "source": [
    "complete = pd.merge(runAvg, vo2, left_on='date', right_on='calendarDate', how=\"inner\")\n",
    "complete.drop(columns={'calendarDate'}, inplace=True)\n",
    "complete"
   ]
  },
  {
   "cell_type": "code",
   "execution_count": 16,
   "metadata": {},
   "outputs": [
    {
     "data": {
      "image/png": "[encoded data removed]",
      "text/plain": [
       "<Figure size 1080x720 with 3 Axes>"
      ]
     },
     "metadata": {
      "needs_background": "light"
     },
     "output_type": "display_data"
    }
   ],
   "source": [
    "utils.plotRunComparison(complete)"
   ]
  },
  {
   "cell_type": "markdown",
   "metadata": {},
   "source": [
    "There are some patterns that could be noticed:\n",
    "* activities' length increased over time, but the average pace didn't change too much (except for some isolated activities)\n",
    "* VO2Max had a low point after the 2020 spring lockdown, as predictable\n",
    "* interestingly, autumn 2020 and winter 2021 were the period in which I was more trained (according to VO2Max); in fact, in that period activities' length started to raise, but the average pace didn't decreased"
   ]
  }
 ],
 "metadata": {
  "interpreter": {
   "hash": "df0893f56f349688326838aaeea0de204df53a132722cbd565e54b24a8fec5f6"
  },
  "kernelspec": {
   "display_name": "",
   "language": "python",
   "name": "python3"
  },
  "language_info": {
   "codemirror_mode": {
    "name": "ipython",
    "version": 3
   },
   "file_extension": ".py",
   "mimetype": "text/x-python",
   "name": "python",
   "nbconvert_exporter": "python",
   "pygments_lexer": "ipython3",
   "version": "3.8.10"
  },
  "orig_nbformat": 4
 },
 "nbformat": 4,
 "nbformat_minor": 2
}
